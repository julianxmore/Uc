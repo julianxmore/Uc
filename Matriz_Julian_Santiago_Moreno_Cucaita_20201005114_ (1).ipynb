{
  "nbformat": 4,
  "nbformat_minor": 0,
  "metadata": {
    "colab": {
      "provenance": []
    },
    "kernelspec": {
      "name": "python3",
      "display_name": "Python 3"
    },
    "language_info": {
      "name": "python"
    }
  },
  "cells": [
    {
      "cell_type": "code",
      "source": [
        "from array import array\n",
        "\n",
        "def cambiar_renglones(matriz, i, j):\n",
        "\n",
        "\n",
        "    matriz = matriz[:]\n",
        "    temp = array('f', matriz[j*3:j*3+3])\n",
        "    for k in range(3):\n",
        "        matriz[j*3+k] = matriz[i*3+k]\n",
        "        matriz[i*3+k] = temp[k]\n",
        "    return matriz"
      ],
      "metadata": {
        "id": "8EKvJA9lA-js"
      },
      "execution_count": null,
      "outputs": []
    },
    {
      "cell_type": "markdown",
      "source": [
        " Función para cambiar dos renglones de una matriz.\n",
        "\n",
        "    Args:\n",
        "    - matriz: matriz representada como un arreglo de 9 elementos.\n",
        "    - i, j: índices de los renglones que se intercambiarán.\n",
        "\n",
        "    Returns:\n",
        "    - matriz: la matriz después de cambiar los renglones.\n",
        "    "
      ],
      "metadata": {
        "id": "Ar5qZoC4A_T0"
      }
    },
    {
      "cell_type": "code",
      "source": [
        "def multiplicar_renglon(matriz, i, escalar):\n",
        "\n",
        "    matriz = matriz[:]\n",
        "    for k in range(i*3, i*3+3):\n",
        "        matriz[k] *= escalar\n",
        "    return matriz"
      ],
      "metadata": {
        "id": "5yh-TeLLBMx-"
      },
      "execution_count": null,
      "outputs": []
    },
    {
      "cell_type": "markdown",
      "source": [
        " Función para multiplicar un renglón de la matriz por un escalar.\n",
        "\n",
        "    Args:\n",
        "    - matriz: matriz representada como un arreglo de 9 elementos.\n",
        "    - i: índice del renglón que se multiplicará.\n",
        "    - escalar: el escalar por el cual se multiplicará el renglón.\n",
        "\n",
        "    Returns:\n",
        "    - matriz: la matriz después de la multiplicación."
      ],
      "metadata": {
        "id": "ovSySePQBScN"
      }
    },
    {
      "cell_type": "code",
      "source": [
        "def sumar_renglones(matriz, i, j, escalar=1):\n",
        "\n",
        "    matriz = matriz[:]\n",
        "    for k in range(3):\n",
        "        matriz[i*3+k] += matriz[j*3+k]\n",
        "    return matriz\n"
      ],
      "metadata": {
        "id": "l2tfwhtWBUR0"
      },
      "execution_count": null,
      "outputs": []
    },
    {
      "cell_type": "markdown",
      "source": [
        "\n",
        "    Función para sumar un múltiplo de un renglón a otro renglón.\n",
        "\n",
        "    Args:\n",
        "    - matriz: matriz representada como un arreglo de 9 elementos.\n",
        "    - i, j: índices de los renglones que se sumarán.\n",
      
        "\n",
        "    Returns:\n",
        "    - matriz: la matriz después de la suma.\n",
        "  "
      ],
      "metadata": {
        "id": "V2Hb_V9aBeWv"
      }
    },
    {
      "cell_type": "code",
      "source": [
        "from array import array\n",
        "\n",
        "def cambiar_renglones(matriz, i, j):\n",
        "    matriz = matriz[:]\n",
        "    temp = array('f', matriz[j*3:j*3+3])\n",
        "    for k in range(3):\n",
        "        matriz[j*3+k] = matriz[i*3+k]\n",
        "        matriz[i*3+k] = temp[k]\n",
        "    return matriz\n",
        "\n",
        "def multiplicar_renglon(matriz, i, escalar):\n",
        "\n",
        "    matriz = matriz[:]\n",
        "    for k in range(i*3, i*3+3):\n",
        "        matriz[k] *= escalar\n",
        "    return matriz\n",
        "\n",
        "def sumar_renglones(matriz, i, j, escalar=1):\n",
        "\n",
        "    matriz = matriz[:]\n",
        "    for k in range(3):\n",
        "        matriz[i*3+k] += matriz[j*3+k] * escalar\n",
        "    return matriz\n",
        "\n",
        "#MATRIX ORIGINAL\n",
        "h = array('f', [1.1, 2.2, 3.3,\n",
        "                4.4, 5.5, 6.6,\n",
        "                7.7, float('-inf'), float('nan')])\n",
        "\n",
        "# Ejemplo de uso\n",
        "# Cambiar el renglón 0 con el renglón 1\n",
        "h1 = cambiar_renglones(h, 0, 1)\n",
        "print(\"Matriz después de cambiar renglones 0 y 1:\")\n",
        "print(h1)\n",
        "print()\n",
        "\n",
        "# Multiplicar el renglón 2 por 1/3\n",
        "h2 = multiplicar_renglon(h, 2, 5)\n",
        "print(\"Matriz después de multiplicar el renglón 2 por 5:\")\n",
        "print(h2)\n",
        "print()\n",
        "\n",
        "# Sumar el renglón 1 al renglón 0\n",
        "h3 = sumar_renglones(h, 0, 1)\n",
        "print(\"Matriz después de sumar el renglón 1 al renglón 0:\")\n",
        "print(h3)"
      ],
      "metadata": {
        "colab": {
          "base_uri": "https://localhost:8080/"
        },
        "id": "ZTyAV9tOBhLz",
        "outputId": "59e373df-9b13-4969-e78a-03c227d0d7d9"
      },
      "execution_count": 4,
      "outputs": [
        {
          "output_type": "stream",
          "name": "stdout",
          "text": [
            "Matriz después de cambiar renglones 0 y 1:\n",
            "array('f', [4.400000095367432, 5.5, 6.599999904632568, 1.100000023841858, 2.200000047683716, 3.299999952316284, 7.699999809265137, -inf, nan])\n",
            "\n",
            "Matriz después de multiplicar el renglón 2 por 1/3:\n",
            "array('f', [1.100000023841858, 2.200000047683716, 3.299999952316284, 4.400000095367432, 5.5, 6.599999904632568, 38.5, -inf, nan])\n",
            "\n",
            "Matriz después de sumar el renglón 1 al renglón 0:\n",
            "array('f', [5.5, 7.699999809265137, 9.899999618530273, 4.400000095367432, 5.5, 6.599999904632568, 7.699999809265137, -inf, nan])\n"
          ]
        }
      ]
    },
    {
      "cell_type": "code",
      "source": [
        "import numpy as np\n",
        "from sympy import Matrix\n",
        "\n",
        "def cambiar_renglones(matriz, i, j):\n",
        "    matriz = Matrix(matriz)\n",
        "    matriz.row_swap(i, j)\n",
        "    return matriz\n",
        "\n",
        "def multiplicar_renglon(matriz, i, escalar):\n",
        "    matriz = matriz.copy()\n",
        "    matriz[i] = np.multiply(matriz[i], escalar)\n",
        "    return matriz\n",
        "\n",
        "def sumar_renglones(matriz, i, j, escalar=1):\n",
        "    matriz = matriz.copy()\n",
        "    matriz[i] = np.add(matriz[i], np.multiply(matriz[j], escalar))\n",
        "    return matriz\n",
        "\n",
        "# Matriz original\n",
        "matriz_original = np.array([[1.1, 2.2, 3.3],\n",
        "                             [4.4, 5.5, 6.6],\n",
        "                             [7.7, float('-inf'), float('nan')]])\n",
        "\n",
        "# Ejemplo de uso\n",
        "# Cambiar el renglón 0 con el renglón 1\n",
        "resultado_cambio_renglones = cambiar_renglones(matriz_original, 0, 1)\n",
        "print(\"Matriz después de cambiar renglones 0 y 1:\")\n",
        "print(resultado_cambio_renglones)\n",
        "print()\n",
        "\n",
        "# Multiplicar el renglón 2 por 5\n",
        "resultado_multiplicacion_renglon = multiplicar_renglon(matriz_original, 2, 5)\n",
        "print(\"Matriz después de multiplicar el renglón 2 por 5:\")\n",
        "print(resultado_multiplicacion_renglon)\n",
        "print()\n",
        "\n",
        "# Sumar el renglón 1 al renglón 0\n",
        "resultado_suma_renglones = sumar_renglones(matriz_original, 0, 1)\n",
        "print(\"Matriz después de sumar el renglón 1 al renglón 0:\")\n",
        "print(resultado_suma_renglones)"
      ],
      "metadata": {
        "colab": {
          "base_uri": "https://localhost:8080/"
        },
        "id": "LOVPtRUELIAl",
        "outputId": "1cf9d859-9c82-45df-863f-72b70d23a5c3"
      },
      "execution_count": 1,
      "outputs": [
        {
          "output_type": "stream",
          "name": "stdout",
          "text": [
            "Matriz después de cambiar renglones 0 y 1:\n",
            "Matrix([[4.40000000000000, 5.50000000000000, 6.60000000000000], [1.10000000000000, 2.20000000000000, 3.30000000000000], [7.70000000000000, -oo, nan]])\n",
            "\n",
            "Matriz después de multiplicar el renglón 2 por 5:\n",
            "[[ 1.1  2.2  3.3]\n",
            " [ 4.4  5.5  6.6]\n",
            " [38.5 -inf  nan]]\n",
            "\n",
            "Matriz después de sumar el renglón 1 al renglón 0:\n",
            "[[ 5.5  7.7  9.9]\n",
            " [ 4.4  5.5  6.6]\n",
            " [ 7.7 -inf  nan]]\n"
          ]
        }
      ]
    },
    {
      "cell_type": "markdown",
      "source": [
        "En el segmento anterior se hizo uso de la bliblioteca numpy y simpy para la comprobacion de la matriz."
      ],
      "metadata": {
        "id": "OdRCnBH0LUiT"
      }
    }
  ]
}
